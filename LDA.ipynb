{
  "nbformat": 4,
  "nbformat_minor": 0,
  "metadata": {
    "colab": {
      "name": "LDA.ipynb",
      "provenance": [],
      "collapsed_sections": [],
      "authorship_tag": "ABX9TyOQUUugO7i0zlqIedILVmN+",
      "include_colab_link": true
    },
    "kernelspec": {
      "name": "python3",
      "display_name": "Python 3"
    }
  },
  "cells": [
    {
      "cell_type": "markdown",
      "metadata": {
        "id": "view-in-github",
        "colab_type": "text"
      },
      "source": [
        "<a href=\"https://colab.research.google.com/github/zeeshan-bandar/Machine_Learning/blob/main/LDA.ipynb\" target=\"_parent\"><img src=\"https://colab.research.google.com/assets/colab-badge.svg\" alt=\"Open In Colab\"/></a>"
      ]
    },
    {
      "cell_type": "code",
      "metadata": {
        "id": "SEJ7C4FfggOv"
      },
      "source": [
        "import pandas as pd\n",
        "import numpy as np\n",
        "from sklearn.preprocessing import MinMaxScaler\n",
        "from sklearn.preprocessing import StandardScaler"
      ],
      "execution_count": 14,
      "outputs": []
    },
    {
      "cell_type": "code",
      "metadata": {
        "colab": {
          "base_uri": "https://localhost:8080/",
          "height": 204
        },
        "id": "CbVSaoFxhMLT",
        "outputId": "4b94e04a-39be-454c-f411-a382ff253107"
      },
      "source": [
        "df=pd.read_csv('/content/chd - chd.csv')\n",
        "df.head()"
      ],
      "execution_count": 15,
      "outputs": [
        {
          "output_type": "execute_result",
          "data": {
            "text/html": [
              "<div>\n",
              "<style scoped>\n",
              "    .dataframe tbody tr th:only-of-type {\n",
              "        vertical-align: middle;\n",
              "    }\n",
              "\n",
              "    .dataframe tbody tr th {\n",
              "        vertical-align: top;\n",
              "    }\n",
              "\n",
              "    .dataframe thead th {\n",
              "        text-align: right;\n",
              "    }\n",
              "</style>\n",
              "<table border=\"1\" class=\"dataframe\">\n",
              "  <thead>\n",
              "    <tr style=\"text-align: right;\">\n",
              "      <th></th>\n",
              "      <th>Obs</th>\n",
              "      <th>ID</th>\n",
              "      <th>AGE</th>\n",
              "      <th>agrp</th>\n",
              "      <th>CHD</th>\n",
              "    </tr>\n",
              "  </thead>\n",
              "  <tbody>\n",
              "    <tr>\n",
              "      <th>0</th>\n",
              "      <td>1</td>\n",
              "      <td>1</td>\n",
              "      <td>20</td>\n",
              "      <td>1</td>\n",
              "      <td>0</td>\n",
              "    </tr>\n",
              "    <tr>\n",
              "      <th>1</th>\n",
              "      <td>2</td>\n",
              "      <td>2</td>\n",
              "      <td>23</td>\n",
              "      <td>1</td>\n",
              "      <td>0</td>\n",
              "    </tr>\n",
              "    <tr>\n",
              "      <th>2</th>\n",
              "      <td>3</td>\n",
              "      <td>3</td>\n",
              "      <td>24</td>\n",
              "      <td>1</td>\n",
              "      <td>0</td>\n",
              "    </tr>\n",
              "    <tr>\n",
              "      <th>3</th>\n",
              "      <td>4</td>\n",
              "      <td>4</td>\n",
              "      <td>25</td>\n",
              "      <td>1</td>\n",
              "      <td>0</td>\n",
              "    </tr>\n",
              "    <tr>\n",
              "      <th>4</th>\n",
              "      <td>5</td>\n",
              "      <td>5</td>\n",
              "      <td>25</td>\n",
              "      <td>1</td>\n",
              "      <td>1</td>\n",
              "    </tr>\n",
              "  </tbody>\n",
              "</table>\n",
              "</div>"
            ],
            "text/plain": [
              "   Obs  ID  AGE  agrp  CHD\n",
              "0    1   1   20     1    0\n",
              "1    2   2   23     1    0\n",
              "2    3   3   24     1    0\n",
              "3    4   4   25     1    0\n",
              "4    5   5   25     1    1"
            ]
          },
          "metadata": {
            "tags": []
          },
          "execution_count": 15
        }
      ]
    },
    {
      "cell_type": "code",
      "metadata": {
        "colab": {
          "base_uri": "https://localhost:8080/",
          "height": 204
        },
        "id": "xKEif2nThYQi",
        "outputId": "3ec6ff17-4d6f-4622-81a1-e5cccc8eaeb1"
      },
      "source": [
        "df1=df.loc[:,['AGE','CHD']]\n",
        "df1.head()"
      ],
      "execution_count": 16,
      "outputs": [
        {
          "output_type": "execute_result",
          "data": {
            "text/html": [
              "<div>\n",
              "<style scoped>\n",
              "    .dataframe tbody tr th:only-of-type {\n",
              "        vertical-align: middle;\n",
              "    }\n",
              "\n",
              "    .dataframe tbody tr th {\n",
              "        vertical-align: top;\n",
              "    }\n",
              "\n",
              "    .dataframe thead th {\n",
              "        text-align: right;\n",
              "    }\n",
              "</style>\n",
              "<table border=\"1\" class=\"dataframe\">\n",
              "  <thead>\n",
              "    <tr style=\"text-align: right;\">\n",
              "      <th></th>\n",
              "      <th>AGE</th>\n",
              "      <th>CHD</th>\n",
              "    </tr>\n",
              "  </thead>\n",
              "  <tbody>\n",
              "    <tr>\n",
              "      <th>0</th>\n",
              "      <td>20</td>\n",
              "      <td>0</td>\n",
              "    </tr>\n",
              "    <tr>\n",
              "      <th>1</th>\n",
              "      <td>23</td>\n",
              "      <td>0</td>\n",
              "    </tr>\n",
              "    <tr>\n",
              "      <th>2</th>\n",
              "      <td>24</td>\n",
              "      <td>0</td>\n",
              "    </tr>\n",
              "    <tr>\n",
              "      <th>3</th>\n",
              "      <td>25</td>\n",
              "      <td>0</td>\n",
              "    </tr>\n",
              "    <tr>\n",
              "      <th>4</th>\n",
              "      <td>25</td>\n",
              "      <td>1</td>\n",
              "    </tr>\n",
              "  </tbody>\n",
              "</table>\n",
              "</div>"
            ],
            "text/plain": [
              "   AGE  CHD\n",
              "0   20    0\n",
              "1   23    0\n",
              "2   24    0\n",
              "3   25    0\n",
              "4   25    1"
            ]
          },
          "metadata": {
            "tags": []
          },
          "execution_count": 16
        }
      ]
    },
    {
      "cell_type": "code",
      "metadata": {
        "id": "gNe6P8RZj6c4"
      },
      "source": [
        "X = df1.iloc[:, :-1].values\n",
        "y = df.iloc[:, -1].values"
      ],
      "execution_count": 17,
      "outputs": []
    },
    {
      "cell_type": "code",
      "metadata": {
        "id": "CKaGqeankLWp"
      },
      "source": [
        "from sklearn.discriminant_analysis import LinearDiscriminantAnalysis\n",
        "lda = LinearDiscriminantAnalysis()\n",
        "lda.fit(X, y)\n",
        "yp= lda.predict(X)"
      ],
      "execution_count": 18,
      "outputs": []
    },
    {
      "cell_type": "code",
      "metadata": {
        "colab": {
          "base_uri": "https://localhost:8080/"
        },
        "id": "ksyqLT4Gk2gq",
        "outputId": "3fc25e37-9d17-4076-aca3-43de097091da"
      },
      "source": [
        "lda.decision_function(X)"
      ],
      "execution_count": 19,
      "outputs": [
        {
          "output_type": "execute_result",
          "data": {
            "text/plain": [
              "array([-3.27093953, -2.91548011, -2.79699364, -2.67850717, -2.67850717,\n",
              "       -2.56002069, -2.56002069, -2.32304775, -2.32304775, -2.20456127,\n",
              "       -2.0860748 , -2.0860748 , -2.0860748 , -2.0860748 , -2.0860748 ,\n",
              "       -2.0860748 , -1.84910185, -1.84910185, -1.73061538, -1.73061538,\n",
              "       -1.61212891, -1.61212891, -1.61212891, -1.61212891, -1.61212891,\n",
              "       -1.49364243, -1.49364243, -1.37515596, -1.37515596, -1.37515596,\n",
              "       -1.25666949, -1.25666949, -1.25666949, -1.13818301, -1.13818301,\n",
              "       -1.01969654, -1.01969654, -0.90121007, -0.90121007, -0.78272359,\n",
              "       -0.78272359, -0.66423712, -0.66423712, -0.66423712, -0.66423712,\n",
              "       -0.54575065, -0.54575065, -0.54575065, -0.42726417, -0.42726417,\n",
              "       -0.42726417, -0.42726417, -0.3087777 , -0.3087777 , -0.19029123,\n",
              "       -0.19029123, -0.07180475, -0.07180475, -0.07180475,  0.04668172,\n",
              "        0.04668172,  0.04668172,  0.16516819,  0.16516819,  0.16516819,\n",
              "        0.28365467,  0.28365467,  0.40214114,  0.52062762,  0.52062762,\n",
              "        0.63911409,  0.63911409,  0.75760056,  0.87608704,  0.87608704,\n",
              "        0.87608704,  0.99457351,  0.99457351,  0.99457351,  1.11305998,\n",
              "        1.11305998,  1.11305998,  1.11305998,  1.11305998,  1.11305998,\n",
              "        1.23154646,  1.23154646,  1.23154646,  1.35003293,  1.35003293,\n",
              "        1.4685194 ,  1.4685194 ,  1.58700588,  1.70549235,  1.70549235,\n",
              "        1.82397882,  1.9424653 ,  1.9424653 ,  2.06095177,  2.53489766])"
            ]
          },
          "metadata": {
            "tags": []
          },
          "execution_count": 19
        }
      ]
    },
    {
      "cell_type": "code",
      "metadata": {
        "colab": {
          "base_uri": "https://localhost:8080/"
        },
        "id": "0DmXEChrk5ws",
        "outputId": "d16129d0-cddb-49da-d0b6-7a01731b14a1"
      },
      "source": [
        "from sklearn.metrics import confusion_matrix\n",
        "confusion_matrix=confusion_matrix(y,yp)\n",
        "print(confusion_matrix)"
      ],
      "execution_count": 20,
      "outputs": [
        {
          "output_type": "stream",
          "text": [
            "[[45 12]\n",
            " [14 29]]\n"
          ],
          "name": "stdout"
        }
      ]
    },
    {
      "cell_type": "code",
      "metadata": {
        "colab": {
          "base_uri": "https://localhost:8080/"
        },
        "id": "8mWYr7JVlL8B",
        "outputId": "14fd58b0-3180-4302-8f20-536d0350aac2"
      },
      "source": [
        "from sklearn.metrics import classification_report\n",
        "print(classification_report(y, yp))"
      ],
      "execution_count": 21,
      "outputs": [
        {
          "output_type": "stream",
          "text": [
            "              precision    recall  f1-score   support\n",
            "\n",
            "           0       0.76      0.79      0.78        57\n",
            "           1       0.71      0.67      0.69        43\n",
            "\n",
            "    accuracy                           0.74       100\n",
            "   macro avg       0.74      0.73      0.73       100\n",
            "weighted avg       0.74      0.74      0.74       100\n",
            "\n"
          ],
          "name": "stdout"
        }
      ]
    }
  ]
}