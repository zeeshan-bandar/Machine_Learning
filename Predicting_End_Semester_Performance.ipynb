{
  "nbformat": 4,
  "nbformat_minor": 0,
  "metadata": {
    "colab": {
      "name": "Predicting_End_Semester_Performance.ipynb",
      "provenance": [],
      "collapsed_sections": [],
      "authorship_tag": "ABX9TyNBeZGYEKE1c+sp/ICR/AqD"
    },
    "kernelspec": {
      "name": "python3",
      "display_name": "Python 3"
    }
  },
  "cells": [
    {
      "cell_type": "code",
      "metadata": {
        "id": "JYur1gpsO-oa"
      },
      "source": [
        "import pandas as pd\n",
        "import numpy as np\n",
        "import statsmodels.api as sm\n",
        "import seaborn as sns\n",
        "import matplotlib.pyplot as plt\n",
        "import math"
      ],
      "execution_count": 14,
      "outputs": []
    },
    {
      "cell_type": "code",
      "metadata": {
        "id": "kqhNy82zT2-q",
        "outputId": "0dbd0189-05e9-4a6a-dcf2-d5d0f4866fd3",
        "colab": {
          "base_uri": "https://localhost:8080/",
          "height": 297
        }
      },
      "source": [
        "df = pd.read_csv('/content/AttendanceMarksSA.csv')\n",
        "df.head()\n",
        "df.describe()"
      ],
      "execution_count": 15,
      "outputs": [
        {
          "output_type": "execute_result",
          "data": {
            "text/html": [
              "<div>\n",
              "<style scoped>\n",
              "    .dataframe tbody tr th:only-of-type {\n",
              "        vertical-align: middle;\n",
              "    }\n",
              "\n",
              "    .dataframe tbody tr th {\n",
              "        vertical-align: top;\n",
              "    }\n",
              "\n",
              "    .dataframe thead th {\n",
              "        text-align: right;\n",
              "    }\n",
              "</style>\n",
              "<table border=\"1\" class=\"dataframe\">\n",
              "  <thead>\n",
              "    <tr style=\"text-align: right;\">\n",
              "      <th></th>\n",
              "      <th>Attendance</th>\n",
              "      <th>MSE</th>\n",
              "      <th>ESE</th>\n",
              "    </tr>\n",
              "  </thead>\n",
              "  <tbody>\n",
              "    <tr>\n",
              "      <th>count</th>\n",
              "      <td>73.000000</td>\n",
              "      <td>73.000000</td>\n",
              "      <td>73.000000</td>\n",
              "    </tr>\n",
              "    <tr>\n",
              "      <th>mean</th>\n",
              "      <td>81.698630</td>\n",
              "      <td>9.780822</td>\n",
              "      <td>46.630137</td>\n",
              "    </tr>\n",
              "    <tr>\n",
              "      <th>std</th>\n",
              "      <td>9.506847</td>\n",
              "      <td>3.047069</td>\n",
              "      <td>6.617542</td>\n",
              "    </tr>\n",
              "    <tr>\n",
              "      <th>min</th>\n",
              "      <td>62.000000</td>\n",
              "      <td>3.000000</td>\n",
              "      <td>32.000000</td>\n",
              "    </tr>\n",
              "    <tr>\n",
              "      <th>25%</th>\n",
              "      <td>75.000000</td>\n",
              "      <td>8.000000</td>\n",
              "      <td>42.000000</td>\n",
              "    </tr>\n",
              "    <tr>\n",
              "      <th>50%</th>\n",
              "      <td>80.000000</td>\n",
              "      <td>10.000000</td>\n",
              "      <td>47.000000</td>\n",
              "    </tr>\n",
              "    <tr>\n",
              "      <th>75%</th>\n",
              "      <td>90.000000</td>\n",
              "      <td>11.000000</td>\n",
              "      <td>50.000000</td>\n",
              "    </tr>\n",
              "    <tr>\n",
              "      <th>max</th>\n",
              "      <td>98.000000</td>\n",
              "      <td>17.000000</td>\n",
              "      <td>64.000000</td>\n",
              "    </tr>\n",
              "  </tbody>\n",
              "</table>\n",
              "</div>"
            ],
            "text/plain": [
              "       Attendance        MSE        ESE\n",
              "count   73.000000  73.000000  73.000000\n",
              "mean    81.698630   9.780822  46.630137\n",
              "std      9.506847   3.047069   6.617542\n",
              "min     62.000000   3.000000  32.000000\n",
              "25%     75.000000   8.000000  42.000000\n",
              "50%     80.000000  10.000000  47.000000\n",
              "75%     90.000000  11.000000  50.000000\n",
              "max     98.000000  17.000000  64.000000"
            ]
          },
          "metadata": {
            "tags": []
          },
          "execution_count": 15
        }
      ]
    },
    {
      "cell_type": "code",
      "metadata": {
        "id": "iKp5sWLhQGQ_",
        "outputId": "929d5a79-a41e-4921-b78e-398d467bb91e",
        "colab": {
          "base_uri": "https://localhost:8080/",
          "height": 103
        }
      },
      "source": [
        "corr=df.corr()\n",
        "corr.style.background_gradient(cmap='coolwarm')"
      ],
      "execution_count": 16,
      "outputs": [
        {
          "output_type": "execute_result",
          "data": {
            "text/html": [
              "<style  type=\"text/css\" >\n",
              "#T_0279228a_110c_11eb_be47_0242ac1c0002row0_col0,#T_0279228a_110c_11eb_be47_0242ac1c0002row1_col1,#T_0279228a_110c_11eb_be47_0242ac1c0002row2_col2{\n",
              "            background-color:  #b40426;\n",
              "            color:  #f1f1f1;\n",
              "        }#T_0279228a_110c_11eb_be47_0242ac1c0002row0_col1,#T_0279228a_110c_11eb_be47_0242ac1c0002row0_col2,#T_0279228a_110c_11eb_be47_0242ac1c0002row2_col0{\n",
              "            background-color:  #3b4cc0;\n",
              "            color:  #f1f1f1;\n",
              "        }#T_0279228a_110c_11eb_be47_0242ac1c0002row1_col0{\n",
              "            background-color:  #4257c9;\n",
              "            color:  #f1f1f1;\n",
              "        }#T_0279228a_110c_11eb_be47_0242ac1c0002row1_col2{\n",
              "            background-color:  #f18f71;\n",
              "            color:  #000000;\n",
              "        }#T_0279228a_110c_11eb_be47_0242ac1c0002row2_col1{\n",
              "            background-color:  #f29072;\n",
              "            color:  #000000;\n",
              "        }</style><table id=\"T_0279228a_110c_11eb_be47_0242ac1c0002\" ><thead>    <tr>        <th class=\"blank level0\" ></th>        <th class=\"col_heading level0 col0\" >Attendance</th>        <th class=\"col_heading level0 col1\" >MSE</th>        <th class=\"col_heading level0 col2\" >ESE</th>    </tr></thead><tbody>\n",
              "                <tr>\n",
              "                        <th id=\"T_0279228a_110c_11eb_be47_0242ac1c0002level0_row0\" class=\"row_heading level0 row0\" >Attendance</th>\n",
              "                        <td id=\"T_0279228a_110c_11eb_be47_0242ac1c0002row0_col0\" class=\"data row0 col0\" >1.000000</td>\n",
              "                        <td id=\"T_0279228a_110c_11eb_be47_0242ac1c0002row0_col1\" class=\"data row0 col1\" >-0.080943</td>\n",
              "                        <td id=\"T_0279228a_110c_11eb_be47_0242ac1c0002row0_col2\" class=\"data row0 col2\" >-0.109972</td>\n",
              "            </tr>\n",
              "            <tr>\n",
              "                        <th id=\"T_0279228a_110c_11eb_be47_0242ac1c0002level0_row1\" class=\"row_heading level0 row1\" >MSE</th>\n",
              "                        <td id=\"T_0279228a_110c_11eb_be47_0242ac1c0002row1_col0\" class=\"data row1 col0\" >-0.080943</td>\n",
              "                        <td id=\"T_0279228a_110c_11eb_be47_0242ac1c0002row1_col1\" class=\"data row1 col1\" >1.000000</td>\n",
              "                        <td id=\"T_0279228a_110c_11eb_be47_0242ac1c0002row1_col2\" class=\"data row1 col2\" >0.751530</td>\n",
              "            </tr>\n",
              "            <tr>\n",
              "                        <th id=\"T_0279228a_110c_11eb_be47_0242ac1c0002level0_row2\" class=\"row_heading level0 row2\" >ESE</th>\n",
              "                        <td id=\"T_0279228a_110c_11eb_be47_0242ac1c0002row2_col0\" class=\"data row2 col0\" >-0.109972</td>\n",
              "                        <td id=\"T_0279228a_110c_11eb_be47_0242ac1c0002row2_col1\" class=\"data row2 col1\" >0.751530</td>\n",
              "                        <td id=\"T_0279228a_110c_11eb_be47_0242ac1c0002row2_col2\" class=\"data row2 col2\" >1.000000</td>\n",
              "            </tr>\n",
              "    </tbody></table>"
            ],
            "text/plain": [
              "<pandas.io.formats.style.Styler at 0x7f6d3e835048>"
            ]
          },
          "metadata": {
            "tags": []
          },
          "execution_count": 16
        }
      ]
    },
    {
      "cell_type": "code",
      "metadata": {
        "id": "6AmAzgSyRCvc",
        "outputId": "f295e4f5-cc07-4790-b32e-5e14ef77122d",
        "colab": {
          "base_uri": "https://localhost:8080/",
          "height": 297
        }
      },
      "source": [
        "x=df['MSE']\n",
        "y=df['ESE']\n",
        "sns.scatterplot(x=x,y=y)"
      ],
      "execution_count": 22,
      "outputs": [
        {
          "output_type": "execute_result",
          "data": {
            "text/plain": [
              "<matplotlib.axes._subplots.AxesSubplot at 0x7f6d1f9a26a0>"
            ]
          },
          "metadata": {
            "tags": []
          },
          "execution_count": 22
        },
        {
          "output_type": "display_data",
          "data": {
            "image/png": "[encoded data removed]",
            "text/plain": [
              "<Figure size 432x288 with 1 Axes>"
            ]
          },
          "metadata": {
            "tags": [],
            "needs_background": "light"
          }
        }
      ]
    },
    {
      "cell_type": "code",
      "metadata": {
        "id": "VNNvLlVwRQ1f",
        "outputId": "d1d8d74b-3904-4703-951d-52c6f8349d9b",
        "colab": {
          "base_uri": "https://localhost:8080/",
          "height": 255
        }
      },
      "source": [
        "endog=df['ESE']\n",
        "exog=sm.add_constant(df[['MSE']])\n",
        "print(exog)"
      ],
      "execution_count": 5,
      "outputs": [
        {
          "output_type": "stream",
          "text": [
            "    const  MSE\n",
            "0     1.0   10\n",
            "1     1.0    7\n",
            "2     1.0    3\n",
            "3     1.0   16\n",
            "4     1.0    9\n",
            "..    ...  ...\n",
            "68    1.0   10\n",
            "69    1.0    8\n",
            "70    1.0    9\n",
            "71    1.0   11\n",
            "72    1.0   12\n",
            "\n",
            "[73 rows x 2 columns]\n"
          ],
          "name": "stdout"
        }
      ]
    },
    {
      "cell_type": "code",
      "metadata": {
        "id": "Bm8ItsDyRrTL",
        "outputId": "b97f3ae1-5a7a-4aed-c14a-a19980047740",
        "colab": {
          "base_uri": "https://localhost:8080/",
          "height": 442
        }
      },
      "source": [
        "#Fit and Summarize OLS Model\n",
        "mod=sm.OLS(endog, exog)\n",
        "results=mod.fit()\n",
        "print(results.summary())"
      ],
      "execution_count": 6,
      "outputs": [
        {
          "output_type": "stream",
          "text": [
            "                            OLS Regression Results                            \n",
            "==============================================================================\n",
            "Dep. Variable:                    ESE   R-squared:                       0.565\n",
            "Model:                            OLS   Adj. R-squared:                  0.559\n",
            "Method:                 Least Squares   F-statistic:                     92.14\n",
            "Date:                Sun, 18 Oct 2020   Prob (F-statistic):           1.85e-14\n",
            "Time:                        06:26:54   Log-Likelihood:                -210.66\n",
            "No. Observations:                  73   AIC:                             425.3\n",
            "Df Residuals:                      71   BIC:                             429.9\n",
            "Df Model:                           1                                         \n",
            "Covariance Type:            nonrobust                                         \n",
            "==============================================================================\n",
            "                 coef    std err          t      P>|t|      [0.025      0.975]\n",
            "------------------------------------------------------------------------------\n",
            "const         30.6664      1.741     17.616      0.000      27.195      34.137\n",
            "MSE            1.6322      0.170      9.599      0.000       1.293       1.971\n",
            "==============================================================================\n",
            "Omnibus:                        1.412   Durbin-Watson:                   1.441\n",
            "Prob(Omnibus):                  0.494   Jarque-Bera (JB):                1.119\n",
            "Skew:                          -0.029   Prob(JB):                        0.572\n",
            "Kurtosis:                       2.396   Cond. No.                         34.9\n",
            "==============================================================================\n",
            "\n",
            "Warnings:\n",
            "[1] Standard Errors assume that the covariance matrix of the errors is correctly specified.\n"
          ],
          "name": "stdout"
        }
      ]
    },
    {
      "cell_type": "code",
      "metadata": {
        "id": "2i97iQbxSHun"
      },
      "source": [
        "def RSE(y_true, y_predicted) :\n",
        "  y_true=np.array(y_true)\n",
        "  y_predicted=np.array(y_predicted)\n",
        "  RSS=np.sum(np.square(y_true - y_predicted))\n",
        "\n",
        "  rse=math.sqrt(RSS / (len(y_true)-2))\n",
        "  return rse"
      ],
      "execution_count": 19,
      "outputs": []
    },
    {
      "cell_type": "code",
      "metadata": {
        "id": "nDdEN9mnS1Z1",
        "outputId": "a0d8cffe-e369-4af4-e0e2-4d34331f7f7f",
        "colab": {
          "base_uri": "https://localhost:8080/",
          "height": 34
        }
      },
      "source": [
        "rse=RSE(df['ESE'],results.predict())\n",
        "print(rse)"
      ],
      "execution_count": 20,
      "outputs": [
        {
          "output_type": "stream",
          "text": [
            "4.396224549647787\n"
          ],
          "name": "stdout"
        }
      ]
    },
    {
      "cell_type": "code",
      "metadata": {
        "id": "2SsZ73bdTDzY",
        "outputId": "c2d00984-20f7-4588-fcdd-b255d0a1900d",
        "colab": {
          "base_uri": "https://localhost:8080/",
          "height": 297
        }
      },
      "source": [
        "x1=df['Attendance']\n",
        "y1=df['ESE']\n",
        "sns.scatterplot(x=x1,y=y1)"
      ],
      "execution_count": 23,
      "outputs": [
        {
          "output_type": "execute_result",
          "data": {
            "text/plain": [
              "<matplotlib.axes._subplots.AxesSubplot at 0x7f6d1fa5ba58>"
            ]
          },
          "metadata": {
            "tags": []
          },
          "execution_count": 23
        },
        {
          "output_type": "display_data",
          "data": {
            "image/png": "[encoded data removed]",
            "text/plain": [
              "<Figure size 432x288 with 1 Axes>"
            ]
          },
          "metadata": {
            "tags": [],
            "needs_background": "light"
          }
        }
      ]
    },
    {
      "cell_type": "code",
      "metadata": {
        "id": "-tPQDgBtTQS6",
        "outputId": "dc2c1889-a62e-4fec-fe88-07d37c5c774c",
        "colab": {
          "base_uri": "https://localhost:8080/",
          "height": 255
        }
      },
      "source": [
        "endog1 = df['ESE']\n",
        "exog1 = sm.add_constant(df[['Attendance']])\n",
        "print(exog)"
      ],
      "execution_count": 10,
      "outputs": [
        {
          "output_type": "stream",
          "text": [
            "    const  MSE\n",
            "0     1.0   10\n",
            "1     1.0    7\n",
            "2     1.0    3\n",
            "3     1.0   16\n",
            "4     1.0    9\n",
            "..    ...  ...\n",
            "68    1.0   10\n",
            "69    1.0    8\n",
            "70    1.0    9\n",
            "71    1.0   11\n",
            "72    1.0   12\n",
            "\n",
            "[73 rows x 2 columns]\n"
          ],
          "name": "stdout"
        }
      ]
    },
    {
      "cell_type": "code",
      "metadata": {
        "id": "d9dgqL6QTV5K",
        "outputId": "1447a591-953b-411c-aa7c-a87ab7897b9e",
        "colab": {
          "base_uri": "https://localhost:8080/",
          "height": 442
        }
      },
      "source": [
        "#Fit and Summarize OLS Model\n",
        "mod1=sm.OLS(endog1, exog1)\n",
        "results1=mod1.fit()\n",
        "print(results1.summary())"
      ],
      "execution_count": 11,
      "outputs": [
        {
          "output_type": "stream",
          "text": [
            "                            OLS Regression Results                            \n",
            "==============================================================================\n",
            "Dep. Variable:                    ESE   R-squared:                       0.012\n",
            "Model:                            OLS   Adj. R-squared:                 -0.002\n",
            "Method:                 Least Squares   F-statistic:                    0.8692\n",
            "Date:                Sun, 18 Oct 2020   Prob (F-statistic):              0.354\n",
            "Time:                        06:27:14   Log-Likelihood:                -240.58\n",
            "No. Observations:                  73   AIC:                             485.2\n",
            "Df Residuals:                      71   BIC:                             489.8\n",
            "Df Model:                           1                                         \n",
            "Covariance Type:            nonrobust                                         \n",
            "==============================================================================\n",
            "                 coef    std err          t      P>|t|      [0.025      0.975]\n",
            "------------------------------------------------------------------------------\n",
            "const         52.8841      6.753      7.831      0.000      39.419      66.349\n",
            "Attendance    -0.0765      0.082     -0.932      0.354      -0.240       0.087\n",
            "==============================================================================\n",
            "Omnibus:                        0.286   Durbin-Watson:                   1.788\n",
            "Prob(Omnibus):                  0.867   Jarque-Bera (JB):                0.425\n",
            "Skew:                           0.129   Prob(JB):                        0.808\n",
            "Kurtosis:                       2.730   Cond. No.                         716.\n",
            "==============================================================================\n",
            "\n",
            "Warnings:\n",
            "[1] Standard Errors assume that the covariance matrix of the errors is correctly specified.\n"
          ],
          "name": "stdout"
        }
      ]
    }
  ]
}